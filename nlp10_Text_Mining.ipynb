{
  "nbformat": 4,
  "nbformat_minor": 0,
  "metadata": {
    "colab": {
      "name": "nlp10_Text Mining.ipynb",
      "provenance": [],
      "collapsed_sections": [],
      "authorship_tag": "ABX9TyMCSW+ybl8z/CCrwcForhNY",
      "include_colab_link": true
    },
    "kernelspec": {
      "name": "python3",
      "display_name": "Python 3"
    },
    "accelerator": "GPU"
  },
  "cells": [
    {
      "cell_type": "markdown",
      "metadata": {
        "id": "view-in-github",
        "colab_type": "text"
      },
      "source": [
        "<a href=\"https://colab.research.google.com/github/jeey00n/Caba_nlp/blob/main/nlp10_Text_Mining.ipynb\" target=\"_parent\"><img src=\"https://colab.research.google.com/assets/colab-badge.svg\" alt=\"Open In Colab\"/></a>"
      ]
    },
    {
      "cell_type": "markdown",
      "metadata": {
        "id": "GEzkHSBj7Kye"
      },
      "source": [
        "### NLP, 텍스트 분석\r\n",
        "\r\n",
        "- Natural Language Processing: 기계가 인간의 언어를 이해하고 해석하는 데 중점. 기계번역, 질의응답시스템\r\n",
        "- 텍스트 분석: 비정형 텍스트에서 의미있는 정보를 추출하는 것에 중점\r\n",
        "- NLP는 텍스트 분석을 향상하게 하는 기반기술\r\n",
        "- NLP와 텍스트 분석의 근간에는 머신러닝이 존재. 과거 언어적인 룰 기반 시스템에서 텍스트 데이터 기반으로 모델을 학습하고 예측\r\n",
        "- 텍스트 분석은 머신러닝, 언어 이해, 통계 등을 활용한 모델 수립, 정보 추출을 통해 인사이트 및 예측 분석 등의 분석 작업 수행\r\n",
        "  - 텍스트 분류: 신문기사 카테고리 분류, 스팸 메일 검출 프로그램, 지도학습\r\n",
        "  - 감성 분석: 감정/판단/믿음/의견/기분 등의 주관적 요소 분석. 소셜미디어 감정분석, 영화 리뷰, 여론조사 의견분석, 지도학습, 비지도학습\r\n",
        "  - 텍스트 요약: 텍스트 내에서 중요한 주제나 중심 사상을 추출. 토픽 모델링\r\n",
        "  - 텍스트 군집화와 유사도 측정: 비슷한 유형의 문서에 대해 군집화 수행. 비지도 학습\r\n",
        "\r\n",
        "Text 분석 수행 프로세스\r\n",
        "- 텍스트 정규화\r\n",
        "  - 클렌징, 토큰화, 필터링/스톱워드 제거/철자 수정, Stemming, Lemmatization\r\n",
        "- 피처 벡터화 변환\r\n",
        "  - Bag of Words: Count 기반, TF-IDF 기반\r\n",
        "  - Word2Vec\r\n",
        "- ML 모델 수립 및 학습/예측/평가\r\n",
        "\r\n",
        "텍스트 전처리 - 텍스트 정규화\r\n",
        "- 클렌징: 분석에 방해되는 불필요한 문자, 기호를 사전에 제거. HTML, XML 태그나 특정 기호\r\n",
        "- 토큰화: 문서에서 문장을 분리하는 문장 토큰화와, 문장에서 단어를 토큰으로 분리하는 단어 토큰화\r\n",
        "- 필터링/스톱워드 제거/철자 수정: 분석에 큰 의미가 없는 단어를 제거\r\n",
        "- Stemming, Lemmatization: 문법적 또는 의미적으로 변화하는 단어의 원형을 찾음\r\n",
        "  - Stemming은 원형 단어로 변환 시 일반적인 방법을 적용하거나 더 단순화된 방법을 적용\r\n",
        "  - Lemmatization이 Stemming보다 정교하며 의미론적인 기반에서 단어의 원형을 찾음"
      ]
    },
    {
      "cell_type": "code",
      "metadata": {
        "colab": {
          "base_uri": "https://localhost:8080/"
        },
        "id": "JKYMy5ls6plO",
        "outputId": "7d1aa95a-3ada-4567-ff3a-bcb9a7a4f491"
      },
      "source": [
        "import nltk\r\n",
        "nltk.download('punkt')"
      ],
      "execution_count": 1,
      "outputs": [
        {
          "output_type": "stream",
          "text": [
            "[nltk_data] Downloading package punkt to /root/nltk_data...\n",
            "[nltk_data]   Unzipping tokenizers/punkt.zip.\n"
          ],
          "name": "stdout"
        },
        {
          "output_type": "execute_result",
          "data": {
            "text/plain": [
              "True"
            ]
          },
          "metadata": {
            "tags": []
          },
          "execution_count": 1
        }
      ]
    },
    {
      "cell_type": "code",
      "metadata": {
        "colab": {
          "base_uri": "https://localhost:8080/"
        },
        "id": "Fwg0x05vC-sq",
        "outputId": "c2462d7b-c37e-4526-c22c-ee9b6f7313a4"
      },
      "source": [
        "# 문장 토큰화(sent tokenize): 마침표, 개행문자(\\n), 정규표현식\r\n",
        "from nltk import sent_tokenize\r\n",
        "\r\n",
        "text_sample = 'The Matrix is everywhere its all around us, here even in this room. \\\r\n",
        "              You can see it out your window or on your television. \\\r\n",
        "              You feel it when you go to work, or go to church or pay your taxes.'\r\n",
        "sentences = sent_tokenize(text=text_sample)\r\n",
        "print(sentences)\r\n",
        "print(type(sentences), len(sentences))"
      ],
      "execution_count": 2,
      "outputs": [
        {
          "output_type": "stream",
          "text": [
            "['The Matrix is everywhere its all around us, here even in this room.', 'You can see it out your window or on your television.', 'You feel it when you go to work, or go to church or pay your taxes.']\n",
            "<class 'list'> 3\n"
          ],
          "name": "stdout"
        }
      ]
    },
    {
      "cell_type": "code",
      "metadata": {
        "colab": {
          "base_uri": "https://localhost:8080/"
        },
        "id": "xJVfJZC8EEm7",
        "outputId": "c0352518-4e69-43c4-890e-881e32c94268"
      },
      "source": [
        "# 단어 토큰화(word_tokenize): 공백, 콤마, 마침표, 개행문자, 정규표현식\r\n",
        "from nltk import word_tokenize\r\n",
        "\r\n",
        "sentence = 'The Matrix is everywhere its all around us, here even in this room.'\r\n",
        "words = word_tokenize(sentence)\r\n",
        "print(words)\r\n",
        "print(type(words), len(words))"
      ],
      "execution_count": 3,
      "outputs": [
        {
          "output_type": "stream",
          "text": [
            "['The', 'Matrix', 'is', 'everywhere', 'its', 'all', 'around', 'us', ',', 'here', 'even', 'in', 'this', 'room', '.']\n",
            "<class 'list'> 15\n"
          ],
          "name": "stdout"
        }
      ]
    },
    {
      "cell_type": "code",
      "metadata": {
        "colab": {
          "base_uri": "https://localhost:8080/"
        },
        "id": "B0NgE5gLEeo_",
        "outputId": "bef0042a-f340-4387-c42c-6f18ce65471a"
      },
      "source": [
        "# 문서에 대해 모든 단어를 토큰화\r\n",
        "from nltk import word_tokenize, sent_tokenize\r\n",
        "\r\n",
        "def tokenize_text(text):\r\n",
        "  sentences = sent_tokenize(text) # 문장별 분리토큰\r\n",
        "  word_tokens = [word_tokenize(sentence) for sentence in sentences]\r\n",
        "  return word_tokens\r\n",
        "\r\n",
        "word_tokens = tokenize_text(text_sample)\r\n",
        "print(word_tokens)\r\n",
        "print(type(word_tokens),len(word_tokens))\r\n"
      ],
      "execution_count": 5,
      "outputs": [
        {
          "output_type": "stream",
          "text": [
            "[['The', 'Matrix', 'is', 'everywhere', 'its', 'all', 'around', 'us', ',', 'here', 'even', 'in', 'this', 'room', '.'], ['You', 'can', 'see', 'it', 'out', 'your', 'window', 'or', 'on', 'your', 'television', '.'], ['You', 'feel', 'it', 'when', 'you', 'go', 'to', 'work', ',', 'or', 'go', 'to', 'church', 'or', 'pay', 'your', 'taxes', '.']]\n",
            "<class 'list'> 3\n"
          ],
          "name": "stdout"
        }
      ]
    },
    {
      "cell_type": "code",
      "metadata": {
        "colab": {
          "base_uri": "https://localhost:8080/"
        },
        "id": "nU1c8mIWG5kN",
        "outputId": "ef9b2272-801e-406f-96f6-e8e8008777d5"
      },
      "source": [
        "# 스톱워드 제거: the, is, a, will와 같이 문맥적으로 큰 의미가 없는 단어를 제거\r\n",
        "import nltk\r\n",
        "nltk.download('stopwords')"
      ],
      "execution_count": 6,
      "outputs": [
        {
          "output_type": "stream",
          "text": [
            "[nltk_data] Downloading package stopwords to /root/nltk_data...\n",
            "[nltk_data]   Unzipping corpora/stopwords.zip.\n"
          ],
          "name": "stdout"
        },
        {
          "output_type": "execute_result",
          "data": {
            "text/plain": [
              "True"
            ]
          },
          "metadata": {
            "tags": []
          },
          "execution_count": 6
        }
      ]
    },
    {
      "cell_type": "code",
      "metadata": {
        "colab": {
          "base_uri": "https://localhost:8080/"
        },
        "id": "x_EOCKU3IA5h",
        "outputId": "518a7cd0-8de3-47d9-b86c-7fa4fea909c7"
      },
      "source": [
        "# NLTK english stopwords 갯수 확인\r\n",
        "print(len(nltk.corpus.stopwords.words('english')))\r\n",
        "print(nltk.corpus.stopwords.words('english')[:20])"
      ],
      "execution_count": 8,
      "outputs": [
        {
          "output_type": "stream",
          "text": [
            "179\n",
            "['i', 'me', 'my', 'myself', 'we', 'our', 'ours', 'ourselves', 'you', \"you're\", \"you've\", \"you'll\", \"you'd\", 'your', 'yours', 'yourself', 'yourselves', 'he', 'him', 'his']\n"
          ],
          "name": "stdout"
        }
      ]
    },
    {
      "cell_type": "code",
      "metadata": {
        "colab": {
          "base_uri": "https://localhost:8080/"
        },
        "id": "hlW11OIZIcWa",
        "outputId": "f501dc83-b122-46b6-d5a2-60bd35d96ca5"
      },
      "source": [
        "# stopwords 필터링을 통한 제거\r\n",
        "import nltk\r\n",
        "stopwords = nltk.corpus.stopwords.words('english')\r\n",
        "all_tokens = []\r\n",
        "for sentence in word_tokens:\r\n",
        "  filtered_words = []\r\n",
        "  for word in sentence:\r\n",
        "    word = word.lower()\r\n",
        "    if word not in stopwords:\r\n",
        "      filtered_words.append(word)\r\n",
        "  all_tokens.append(filtered_words)\r\n",
        "print(all_tokens)"
      ],
      "execution_count": 10,
      "outputs": [
        {
          "output_type": "stream",
          "text": [
            "[['matrix', 'everywhere', 'around', 'us', ',', 'even', 'room', '.'], ['see', 'window', 'television', '.'], ['feel', 'go', 'work', ',', 'go', 'church', 'pay', 'taxes', '.']]\n"
          ],
          "name": "stdout"
        }
      ]
    },
    {
      "cell_type": "code",
      "metadata": {
        "colab": {
          "base_uri": "https://localhost:8080/"
        },
        "id": "Ug2jb00QKI82",
        "outputId": "954a8cf1-eacf-41ed-ad77-0b95e1795b43"
      },
      "source": [
        "# 문법적 또는 의미적으로 변화하는 단어의 원형을 찾는 방법\r\n",
        "# Stemmer(LancasterStemmer)\r\n",
        "from nltk.stem import LancasterStemmer\r\n",
        "stemmer = LancasterStemmer()\r\n",
        "print(stemmer.stem('working'), stemmer.stem('works'), stemmer.stem('worked'))\r\n",
        "print(stemmer.stem('amusing'), stemmer.stem('amuses'), stemmer.stem('amused'))"
      ],
      "execution_count": 11,
      "outputs": [
        {
          "output_type": "stream",
          "text": [
            "work work work\n",
            "amus amus amus\n"
          ],
          "name": "stdout"
        }
      ]
    },
    {
      "cell_type": "code",
      "metadata": {
        "id": "kdWI8WGeLCYS"
      },
      "source": [
        "# Lemmatization(WordNetLemmatizer): 정확한 원형 단어 추출을 위해 단어의 품사를 직접 입력\r\n",
        "from nltk.stem.wordnet import WordNetLemmatizer\r\n",
        "\r\n",
        "lemma = WordNetLemmatizer()\r\n",
        "print(lemma.stem('working'), lemma.stem('works'), lemma.stem('worked'))\r\n",
        "print(lemma.stem('amusing'), lemma.stem('amuses'), lemma.stem('amused'))"
      ],
      "execution_count": null,
      "outputs": []
    }
  ]
}